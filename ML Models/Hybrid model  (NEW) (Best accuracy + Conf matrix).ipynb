{
 "cells": [
  {
   "cell_type": "code",
   "execution_count": 1,
   "id": "74aeedf2",
   "metadata": {},
   "outputs": [],
   "source": [
    "#Import all the required libraries\n",
    "import pandas as pd\n",
    "import matplotlib.pyplot as plt\n",
    "import numpy as np\n",
    "import seaborn as sns\n",
    "import sys \n",
    "import os\n",
    "import tensorflow as tf\n",
    "import pickle\n",
    "import sklearn\n",
    "import itertools\n",
    "%matplotlib inline\n",
    "\n",
    "from sklearn.model_selection import train_test_split \n",
    "from sklearn import datasets \n",
    "from tensorflow import keras\n",
    "from tensorflow.keras import models, layers\n",
    "from keras.layers import RepeatVector, Input, Reshape\n",
    "from tensorflow.keras.preprocessing.image import ImageDataGenerator\n",
    "from tensorflow.keras.layers import Dense, Conv2D, Flatten, Dropout, MaxPooling2D, MaxPool2D\n",
    "from tensorflow.python.keras.models import Sequential\n",
    "from tensorflow.keras.models import Sequential\n",
    "from sklearn import preprocessing\n",
    "from keras.layers import Input, Dense, Dropout, GlobalAveragePooling2D, Concatenate, Reshape\n",
    "from sklearn.metrics import accuracy_score\n",
    "from sklearn.metrics import classification_report, confusion_matrix \n",
    "from tensorflow.keras.applications.xception import Xception, preprocess_input\n",
    "from tensorflow.keras.utils import to_categorical\n",
    "from tensorflow.keras.applications.vgg19 import VGG19\n",
    "from tensorflow.keras import layers\n",
    "from tensorflow.keras import Model\n",
    "from tensorflow.keras.models import load_model\n",
    "from tensorflow.keras.optimizers import Adam\n",
    "from keras.layers import BatchNormalization\n",
    "from sklearn.model_selection import KFold\n",
    "import warnings\n",
    "\n",
    "warnings.filterwarnings(\"ignore\")\n"
   ]
  },
  {
   "cell_type": "code",
   "execution_count": 2,
   "id": "b34beeee",
   "metadata": {},
   "outputs": [],
   "source": [
    "data_path = \"BALANCED DATASET 3/BALANCE DATASET 3\"\n",
    "IMG_SIZE = (256, 256)\n",
    "BATCH_SIZE = 32\n",
    "NUM_EPOCHS = 7\n",
    "NUM_CLASSES = 4\n"
   ]
  },
  {
   "cell_type": "code",
   "execution_count": 3,
   "id": "4ff969a8",
   "metadata": {},
   "outputs": [
    {
     "name": "stdout",
     "output_type": "stream",
     "text": [
      "Found 2824 images belonging to 4 classes.\n",
      "Found 704 images belonging to 4 classes.\n",
      "Found 3528 images belonging to 4 classes.\n"
     ]
    }
   ],
   "source": [
    "train_datagen = ImageDataGenerator(\n",
    "    rescale=1. / 255,\n",
    "    rotation_range=20,\n",
    "    width_shift_range=0.2,\n",
    "    height_shift_range=0.2,\n",
    "    shear_range=0.2,\n",
    "    zoom_range=0.2,\n",
    "    horizontal_flip=True,\n",
    "    validation_split=0.2)\n",
    "\n",
    "test_datagen = ImageDataGenerator(rescale=1./255)\n",
    "\n",
    "train_generator = train_datagen.flow_from_directory(\n",
    "    data_path,\n",
    "    target_size=IMG_SIZE,\n",
    "    batch_size=BATCH_SIZE,\n",
    "    class_mode='categorical',\n",
    "    subset='training',\n",
    "    seed=42)\n",
    "\n",
    "val_generator = train_datagen.flow_from_directory(\n",
    "    data_path,\n",
    "    target_size=IMG_SIZE,\n",
    "    batch_size=BATCH_SIZE,\n",
    "    class_mode='categorical',\n",
    "    subset='validation',\n",
    "    seed=42)\n",
    "\n",
    "test_generator = test_datagen.flow_from_directory(\n",
    "    data_path,\n",
    "    target_size=IMG_SIZE,\n",
    "    batch_size=BATCH_SIZE,\n",
    "    class_mode='categorical',\n",
    "    shuffle=False)\n"
   ]
  },
  {
   "cell_type": "code",
   "execution_count": 4,
   "id": "efd88cba",
   "metadata": {},
   "outputs": [],
   "source": [
    "model_input = Input(shape=(256, 256, 3))"
   ]
  },
  {
   "cell_type": "code",
   "execution_count": 5,
   "id": "3e4ff9ee",
   "metadata": {},
   "outputs": [],
   "source": [
    "input_shape = (256, 256, 3) # Change to (512,512,3)\n",
    "input_tensor = model_input\n",
    "\n",
    "# create the VGG model\n",
    "vgg_model = VGG19(weights='imagenet', include_top=False, input_shape=input_shape)\n",
    "\n",
    "# freeze the first few layers\n",
    "for layer in vgg_model.layers[:10]:\n",
    "   layer.trainable = False\n",
    "\n",
    "# create the Xception model\n",
    "xception_model = Xception(weights='imagenet', include_top=False, input_shape=input_shape)\n",
    "\n",
    "# freeze the first few layers\n",
    "for layer in xception_model.layers[:10]:\n",
    "   layer.trainable = False\n",
    "\n",
    "# concatenate the output tensors\n",
    "vgg_output = vgg_model(input_tensor)\n",
    "xception_output = xception_model(input_tensor)\n",
    "concatenated = tf.keras.layers.Concatenate(axis=-1)([vgg_output, xception_output])\n",
    "\n",
    "# add some more layers\n",
    "x = tf.keras.layers.GlobalMaxPooling2D()(concatenated)\n",
    "x = tf.keras.layers.Dense(512, activation='relu')(x)\n",
    "x = tf.keras.layers.Dropout(0.5)(x)\n",
    "classification_layer = tf.keras.layers.Dense(4, activation='sigmoid')(x)\n",
    "\n",
    "# create the final model\n",
    "ensemble_model = tf.keras.models.Model(inputs=input_tensor, outputs=classification_layer)\n",
    "\n",
    "# compile the model\n",
    "ensemble_model.compile(optimizer=tf.keras.optimizers.Adam(lr=0.0001), loss='binary_crossentropy', metrics=['accuracy'])\n"
   ]
  },
  {
   "cell_type": "code",
   "execution_count": null,
   "id": "e86f43ec",
   "metadata": {},
   "outputs": [
    {
     "name": "stdout",
     "output_type": "stream",
     "text": [
      "Epoch 1/7\n",
      "89/89 [==============================] - 4508s 51s/step - loss: 0.4437 - accuracy: 0.5786 - val_loss: 0.3676 - val_accuracy: 0.6506\n",
      "Epoch 2/7\n",
      "89/89 [==============================] - 7132s 80s/step - loss: 0.2603 - accuracy: 0.7918 - val_loss: 0.2858 - val_accuracy: 0.7287\n",
      "Epoch 3/7\n",
      "89/89 [==============================] - 4384s 49s/step - loss: 0.1770 - accuracy: 0.8697 - val_loss: 0.3531 - val_accuracy: 0.7145\n",
      "Epoch 4/7\n",
      "79/89 [=========================>....] - ETA: 8:33 - loss: 0.1342 - accuracy: 0.8970"
     ]
    }
   ],
   "source": [
    "history = ensemble_model.fit(\n",
    "    train_generator,\n",
    "    batch_size=BATCH_SIZE,\n",
    "    validation_data=val_generator,\n",
    "    verbose=1,\n",
    "    epochs=NUM_EPOCHS,\n",
    ")\n"
   ]
  },
  {
   "cell_type": "code",
   "execution_count": null,
   "id": "11693687",
   "metadata": {},
   "outputs": [],
   "source": [
    "loss_val, acc_val = ensemble_model.evaluate(test_generator, verbose=1)\n",
    "print(\"Test: accuracy = %f  ;  loss_v = %f\" % (acc_val, loss_val))\n"
   ]
  },
  {
   "cell_type": "code",
   "execution_count": null,
   "id": "d5fe8050",
   "metadata": {},
   "outputs": [],
   "source": [
    "loss_val, acc_val = ensemble_model.evaluate(val_generator, verbose=1)\n",
    "print(\"Validation: accuracy = %f  ;  loss_v = %f\" % (acc_val, loss_val))\n"
   ]
  },
  {
   "cell_type": "code",
   "execution_count": null,
   "id": "a44f8f06",
   "metadata": {},
   "outputs": [],
   "source": [
    "yTrue = test_generator.classes"
   ]
  },
  {
   "cell_type": "code",
   "execution_count": null,
   "id": "9e2200b6",
   "metadata": {},
   "outputs": [],
   "source": [
    "import numpy as np\n",
    "from sklearn.metrics import confusion_matrix, classification_report\n",
    "import seaborn as sns\n",
    "\n",
    "classes_ = ['Acne', 'Eczema', 'Melanoma', 'Psoriasis']\n",
    "\n",
    "# Generate the confusion matrix for the model\n",
    "y_pred = np.argmax(ensemble_model.predict(test_generator), axis=-1)\n",
    "conf_mat = confusion_matrix(yTrue, y_pred, labels=range(len(classes_)))\n",
    "\n",
    "group_names = ['True Acne','False Eczema','False Melanoma','False Psoriasis',\n",
    "               'False Acne','True Eczema','False Melanoma','False Psoriasis',\n",
    "               'False Acne','False Eczema','True Melanoma','False Psoriasis',\n",
    "               'False Acne','False Eczema','False Melanoma','True Psoriasis']\n",
    "\n",
    "group_counts = [\"{0:0.0f}\".format(value) for value in\n",
    "                conf_mat.flatten()]\n",
    "group_percentages = [\"{0:.2%}\".format(value) for value in\n",
    "                     conf_mat.flatten()/np.sum(conf_mat)]\n",
    "labels = [f\"{v1}\\n{v2}\\n{v3}\" for v1, v2, v3 in\n",
    "          zip(group_names, group_counts, group_percentages)]\n",
    "labels = np.asarray(labels).reshape(len(classes_),len(classes_))\n",
    "\n",
    "ax = sns.heatmap(conf_mat, annot=labels, yticklabels=classes_, xticklabels=classes_, fmt='', cmap='OrRd')\n",
    "ax.set(title='Confusion Matrix', xlabel='Predicted Diseases', ylabel='Actual Diseases')\n",
    "ax.plot()"
   ]
  },
  {
   "cell_type": "code",
   "execution_count": null,
   "id": "150376fb",
   "metadata": {},
   "outputs": [],
   "source": [
    "#function to evaluate models\n",
    "def evaluate(y_pred):\n",
    "    print(f\"Accuracy: \\n{accuracy_score(test_generator,y_pred)}\\n\")\n",
    "    print(f\"Classification report: \\n{classification_report(test_generator,y_pred)}\\n\")\n",
    "    cm = confusion_matrix(test_generator,y_pred)\n",
    "    \n",
    "    class_names = ['True Acne','True Eczema','True Melanoma','True Psoriasis'] \n",
    "    sns.heatmap(conf_mat, annot=labels, yticklabels=classes_, xticklabels=classes_, fmt='', cmap='OrRd')\n",
    "    plt.xlabel('Predicted Diseases')\n",
    "    plt.ylabel('Actual Diseases')\n",
    "    plt.title('Confuson matrix')  \n",
    "    plt.show()"
   ]
  },
  {
   "cell_type": "code",
   "execution_count": null,
   "id": "42ecdd43",
   "metadata": {},
   "outputs": [],
   "source": [
    "#yTrue = test_generator.classes"
   ]
  },
  {
   "cell_type": "code",
   "execution_count": null,
   "id": "739400b8",
   "metadata": {},
   "outputs": [],
   "source": [
    "report = classification_report(yTrue, y_pred, labels=range(len(classes_)))\n",
    "print(report)"
   ]
  },
  {
   "cell_type": "code",
   "execution_count": null,
   "id": "276c1f60",
   "metadata": {},
   "outputs": [],
   "source": [
    "accuracy = history.history['accuracy']\n",
    "validationAccuracy = history.history['val_accuracy']\n",
    "\n",
    "loss = history.history['loss']\n",
    "validationLoss = history.history['val_loss']"
   ]
  },
  {
   "cell_type": "code",
   "execution_count": null,
   "id": "848c343e",
   "metadata": {},
   "outputs": [],
   "source": [
    "plt.figure(figsize=(8, 8))\n",
    "plt.subplot(1, 2, 1)\n",
    "plt.plot(range(NUM_EPOCHS), accuracy, label='Training Accuracy')\n",
    "plt.plot(range(NUM_EPOCHS), validationAccuracy, label='Validation Accuracy')\n",
    "plt.legend(loc='lower right')\n",
    "plt.title('Training and Validation Accuracy')\n",
    "\n",
    "plt.subplot(1, 2, 2)\n",
    "plt.plot(range(NUM_EPOCHS), loss, label='Training Loss')\n",
    "plt.plot(range(NUM_EPOCHS), validationLoss, label='Validation Loss')\n",
    "plt.legend(loc='upper right')\n",
    "plt.title('Training and Validation Loss')\n",
    "plt.show()"
   ]
  },
  {
   "cell_type": "code",
   "execution_count": null,
   "id": "1a2b7641",
   "metadata": {},
   "outputs": [],
   "source": [
    "#Confusion matrix graphh\n",
    "confusionMatrix = confusion_matrix(yTrue, yPrediction)\n",
    "sns.heatmap(confusionMatrix, annot=True, cmap=\"Blues\")\n",
    "plt.show"
   ]
  },
  {
   "cell_type": "code",
   "execution_count": null,
   "id": "d571fff4",
   "metadata": {},
   "outputs": [],
   "source": [
    "# true labels for the test data\n",
    "yTrue = yTrue\n",
    "\n",
    "# Get the class names\n",
    "class_names = list(val_generator.class_indices.keys())\n",
    "\n",
    "# classification report\n",
    "clsreport = classification_report(yTrue, yPrediction, target_names=class_names)\n",
    "print(clsreport)"
   ]
  },
  {
   "cell_type": "code",
   "execution_count": null,
   "id": "f8c003d4",
   "metadata": {},
   "outputs": [],
   "source": [
    "filename = \"modelEnsemble.pkl\"\n",
    "with open(filename,'wb') as f:\n",
    "    pickle.dump(ensemble_model,f)"
   ]
  },
  {
   "cell_type": "code",
   "execution_count": null,
   "id": "2e6beb16",
   "metadata": {},
   "outputs": [],
   "source": []
  }
 ],
 "metadata": {
  "kernelspec": {
   "display_name": "Python 3 (ipykernel)",
   "language": "python",
   "name": "python3"
  },
  "language_info": {
   "codemirror_mode": {
    "name": "ipython",
    "version": 3
   },
   "file_extension": ".py",
   "mimetype": "text/x-python",
   "name": "python",
   "nbconvert_exporter": "python",
   "pygments_lexer": "ipython3",
   "version": "3.9.13"
  }
 },
 "nbformat": 4,
 "nbformat_minor": 5
}
